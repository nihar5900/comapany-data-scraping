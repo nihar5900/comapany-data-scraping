{
 "cells": [
  {
   "cell_type": "code",
   "execution_count": 38,
   "id": "f7ee40ea",
   "metadata": {
    "scrolled": true
   },
   "outputs": [
    {
     "data": {
      "application/vnd.jupyter.widget-view+json": {
       "model_id": "c8493b5e388b4b95afa711aba033852d",
       "version_major": 2,
       "version_minor": 0
      },
      "text/plain": [
       "  0%|          | 0/44 [00:00<?, ?it/s]"
      ]
     },
     "metadata": {},
     "output_type": "display_data"
    }
   ],
   "source": [
    "import undetected_chromedriver as uc #For using Chrome browser\n",
    "from selenium.webdriver.common.by import By #For locating element\n",
    "from selenium.webdriver import ActionChains \n",
    "import time #For adding delays\n",
    "from tqdm.notebook import tqdm #For progress bar\n",
    "import pandas as pd\n",
    "\n",
    "names, inners, outer_descs, websites, logos = [], [], [], [], []\n",
    "\n",
    "## Set Chrome Options\n",
    "options = uc.ChromeOptions()\n",
    "options.add_argument(\"--incognito\")\n",
    "options.add_argument('--disable-popup-blocking')\n",
    "options.add_argument(\"--force-device-scale-factor=0.8\")\n",
    "options.headless=False\n",
    "\n",
    "driver = uc.Chrome(options=options, version_main=118, browser_executable_path=\"C:\\\\Users\\\\Acer\\\\Downloads\\\\Win_x64_1192607_chrome-win\\\\chrome-win\\\\chrome.exe\")\n",
    "#Maximize window\n",
    "driver.maximize_window()\n",
    "actions = ActionChains(driver)\n",
    "\n",
    "\n",
    "driver.get(\"https://www.beamline.fund/portfolio\")\n",
    "time.sleep(4)\n",
    "\n",
    "\n",
    "btn = driver.find_element(By.XPATH, '/html/body/div[2]/div/span/button')\n",
    "btn.click()\n",
    "\n",
    "# aria-label=\"content changes on hover\"\n",
    "elements = driver.find_elements(By.XPATH, \"//div[contains(@aria-label, 'content changes on hover')]\")\n",
    "\n",
    "# if contener is not None:\n",
    "#     print(elements)\n",
    "\n",
    "i=1\n",
    "for element in tqdm(elements):\n",
    "    time.sleep(1)\n",
    "    try:\n",
    "        logo = element.find_element(By.XPATH, \"./div[2]/div//img\").get_attribute(\"src\")\n",
    "        logos.append(logo)\n",
    "#         print((logo, i))\n",
    "#         i+=1\n",
    "    except:\n",
    "        logo = None\n",
    "        logos.append(logo)\n",
    "#         print(logo)\n",
    "    try:\n",
    "        outer_desc = element.find_element(By.XPATH, \"./div[2]/div\").text\n",
    "        outer_descs.append(outer_desc)\n",
    "#         print((outer_desc, i))\n",
    "#         i+=1\n",
    "    except:\n",
    "        outer_desc = None\n",
    "        outer_descs.append(outer_desc)\n",
    "#         print(outer_desc)\n",
    "    \n",
    "    # for hover\n",
    "    actions.move_to_element(element).perform()\n",
    "    time.sleep(1)\n",
    "    try:\n",
    "        name = element.find_element(By.XPATH, \"./div[2]/div/div[2]/h5\").text\n",
    "        names.append(name)\n",
    "#         print(name)\n",
    "    except:\n",
    "        name = None\n",
    "        names.append(name)\n",
    "#         print(name)\n",
    "    try:\n",
    "        inner = element.find_element(By.XPATH, \"./div[2]/div/div[4]\").text\n",
    "        inners.append(inner)\n",
    "#         print(inner)\n",
    "    except:\n",
    "        inner = None\n",
    "        inners.append(inner)\n",
    "#         print(inner)\n",
    "    try:\n",
    "        website = element.find_element(By.XPATH, \".//a\").get_attribute(\"href\")\n",
    "        websites.append(website)\n",
    "#         print(website)\n",
    "    except:\n",
    "        website = None\n",
    "        websites.append(website)\n",
    "#         print(website)\n",
    "\n",
    "df=pd.DataFrame(list(zip(names, inners, outer_descs, websites, logos)),\n",
    "               columns=['name', 'inner_description', 'outer_short_description', 'website', 'logo_url'])\n",
    "df.to_csv('C:\\\\Users\\\\Acer\\\\Downloads\\\\company_data.csv', index=False, encoding='utf-8-sig')\n",
    "\n",
    "driver.quit()"
   ]
  },
  {
   "cell_type": "code",
   "execution_count": 40,
   "id": "1026f27f",
   "metadata": {},
   "outputs": [],
   "source": [
    "df.to_csv('C:\\\\Users\\\\Acer\\\\Downloads\\\\company_data.csv', index=False, encoding='utf-8-sig')"
   ]
  },
  {
   "cell_type": "code",
   "execution_count": null,
   "id": "651ba0e7",
   "metadata": {},
   "outputs": [],
   "source": []
  }
 ],
 "metadata": {
  "kernelspec": {
   "display_name": "Python 3 (ipykernel)",
   "language": "python",
   "name": "python3"
  },
  "language_info": {
   "codemirror_mode": {
    "name": "ipython",
    "version": 3
   },
   "file_extension": ".py",
   "mimetype": "text/x-python",
   "name": "python",
   "nbconvert_exporter": "python",
   "pygments_lexer": "ipython3",
   "version": "3.9.13"
  }
 },
 "nbformat": 4,
 "nbformat_minor": 5
}
